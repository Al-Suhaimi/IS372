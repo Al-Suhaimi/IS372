{
 "cells": [
  {
   "cell_type": "code",
   "execution_count": 4,
   "metadata": {},
   "outputs": [
    {
     "name": "stdout",
     "output_type": "stream",
     "text": [
      "Welcome\n",
      "my Favorit # is  7\n"
     ]
    }
   ],
   "source": [
    " def conform(fav):\n",
    "        fav =42\n",
    "        return fav\n",
    "\n",
    "if __name__ == \"__main__\":\n",
    "    print(\"Welcome\")\n",
    "    fav =7\n",
    "    conform(fav)\n",
    "    print(\"my Favorit # is \", fav)\n",
    "    \n",
    "    \n",
    "   "
   ]
  },
  {
   "cell_type": "code",
   "execution_count": 21,
   "metadata": {},
   "outputs": [
    {
     "name": "stdout",
     "output_type": "stream",
     "text": [
      "inside the function {'A': 28, 'B': 25, 'C': 32, 'D': 25, 'E': 30, 'F': 28}\n",
      "outside the funcation {'A': 28, 'B': 25, 'C': 32, 'D': 25, 'E': 30, 'F': 28}\n"
     ]
    }
   ],
   "source": [
    "student={'A':28,'B':25,'C':32,'D':25}\n",
    "def test(student):\n",
    "    new={'E':30,'F':28}\n",
    "    student.update(new)\n",
    "    print(\"inside the function\",student)\n",
    "    return\n",
    "test(student)\n",
    "print(\"outside the funcation\",student)"
   ]
  },
  {
   "cell_type": "code",
   "execution_count": 12,
   "metadata": {},
   "outputs": [
    {
     "name": "stdout",
     "output_type": "stream",
     "text": [
      "Set_here_your_name\n"
     ]
    }
   ],
   "source": [
    "class Student:\n",
    "    def __init__(self, name):\n",
    "        self.name=name\n",
    "        self.course_list=[]\n",
    "std=Student(\"Set_here_your_name\")\n",
    "print(std.name)"
   ]
  },
  {
   "cell_type": "code",
   "execution_count": 23,
   "metadata": {},
   "outputs": [
    {
     "name": "stdout",
     "output_type": "stream",
     "text": [
      "['Python']\n"
     ]
    }
   ],
   "source": [
    "class Student:\n",
    "    def __init__(self, name):\n",
    "        self.name=name\n",
    "        self.course_list=[]\n",
    "    def add(self,new_course):\n",
    "        self.course_list.append(new_course)\n",
    "std=Student(\"Set_here_your_name\")\n",
    "std.add(\"Python\")\n",
    "print(std.course_list)"
   ]
  },
  {
   "cell_type": "code",
   "execution_count": 27,
   "metadata": {},
   "outputs": [
    {
     "name": "stdout",
     "output_type": "stream",
     "text": [
      "Write test text: lab3\n",
      "['lab3']\n"
     ]
    }
   ],
   "source": [
    "class Student:\n",
    "    def __init__(self, name):\n",
    "        self.name=name\n",
    "        self.course_list=[]\n",
    "    def add(self,new_course):\n",
    "        self.course_list.append(new_course)\n",
    "std=Student(\"Set_here_your_name\")\n",
    "txt = input(\"Write test text: \")\n",
    "std.add(txt)\n",
    "print(std.course_list)"
   ]
  },
  {
   "cell_type": "code",
   "execution_count": 33,
   "metadata": {},
   "outputs": [
    {
     "name": "stdout",
     "output_type": "stream",
     "text": [
      "Mohammed Alsarm\n"
     ]
    }
   ],
   "source": [
    "class Person:\n",
    "    def __init__(self,fname,lname):\n",
    "        self.firstname = fname\n",
    "        self.lastname = lname\n",
    "        \n",
    "        \n",
    "    def printname(self):\n",
    "        print(self.firstname,  self.lastname)\n",
    "        \n",
    "class Professor(Person):\n",
    "    pass\n",
    "mhd = Professor(\"Mohammed\",\"Alsarm\")\n",
    "mhd.printname()"
   ]
  },
  {
   "cell_type": "code",
   "execution_count": null,
   "metadata": {},
   "outputs": [],
   "source": []
  }
 ],
 "metadata": {
  "kernelspec": {
   "display_name": "Python 3",
   "language": "python",
   "name": "python3"
  },
  "language_info": {
   "codemirror_mode": {
    "name": "ipython",
    "version": 3
   },
   "file_extension": ".py",
   "mimetype": "text/x-python",
   "name": "python",
   "nbconvert_exporter": "python",
   "pygments_lexer": "ipython3",
   "version": "3.8.5"
  }
 },
 "nbformat": 4,
 "nbformat_minor": 4
}
